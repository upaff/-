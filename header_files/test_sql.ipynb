{
 "cells": [
  {
   "cell_type": "code",
   "execution_count": 1,
   "metadata": {},
   "outputs": [],
   "source": [
    "from clickhouse_driver import Client\n",
    "from datetime import datetime\n",
    "from matplotlib.dates import relativedelta\n",
    "from oversea_hwc.pandas_sql import GetFromDuckdb, DateGenerator\n",
    "from header_files.func import ck_read,  warehouse_info,read_password\n",
    "import pandas as pd\n",
    "\n",
    "def convert_date_format(date_str):\n",
    "    if isinstance(date_str, datetime):\n",
    "        # print(\"date_str 是 datetime.datetime 对象\")\n",
    "        # 如果是 datetime.datetime 对象，则可以在这里执行转换为字符串的操作\n",
    "        date_str = date_str.strftime('%Y-%m-%d')\n",
    "        # print(\"转换后的日期字符串: \", formatted_date_str)\n",
    "    # else:\n",
    "    #     print(\"date_str 不是 datetime.datetime 对象\")\n",
    "    try:\n",
    "        # 提取年份、月份和日期\n",
    "        year, month, day = map(int, date_str.split('-'))\n",
    "        # 修正月份和年份\n",
    "        if month > 12:\n",
    "            corrected_month = month % 12\n",
    "            corrected_year = year + month // 12\n",
    "        else:\n",
    "            corrected_month = month\n",
    "            corrected_year = year\n",
    "            # 创建新的日期对象\n",
    "        corrected_date = datetime(corrected_year, corrected_month, day)\n",
    "        new_date_string = corrected_date.strftime('%Y-%m-%d')\n",
    "        return new_date_string\n",
    "    except Exception as e:\n",
    "        print(f'Invalid date format, please use YYYY-MM-DD:{date_str}', e)\n",
    "        return None\n",
    "\n",
    "\n",
    "class YM_order_listing:\n",
    "    def __init__(self, start_date, end_date=None, seller_sku=None, asin=None) -> None:\n",
    "        if end_date is None:\n",
    "            end_date = datetime.today().strftime('%Y-%m-%d')\n",
    "        # 时间格式设置为YYYY-MM-DD\n",
    "        # start_date拆分成年月日\n",
    "        self.start_date = convert_date_format(start_date)\n",
    "        self.end_date = convert_date_format(end_date)\n",
    "        if self.start_date is None or self.end_date is None:\n",
    "            raise ValueError(\"Invalid date format, please use YYYY-MM-DD\")\n",
    "        self.year, self.month, self.day = self.start_date.split(\n",
    "            '-')  # type: ignore\n",
    "        self.result = None\n",
    "        self.seller_sku = seller_sku\n",
    "        self.client = Client(host='121.37.249.98', port='9001', user='jinji',\n",
    "                             password='jifnjiiang_10d6s37', database='yibai_dcm_order_sync')\n",
    "        self.duck_order = GetFromDuckdb(r\"E:\\duckdb_database/\", 'ym_order')\n",
    "        self.asin = asin\n",
    "        if int(self.year) == datetime.today().year:\n",
    "            self.year_list = ['', '_archtive']\n",
    "        else:\n",
    "            self.year_list = ['', '_archtive',\n",
    "                              '_2020', '_2021', '_2022', '_2023']\n",
    "        self.warehouse_info = warehouse_info()\n",
    "        # print(self.warehouse_info)\n",
    "        self.warehouse_info_id = self.warehouse_info[self.warehouse_info['type'].isin(\n",
    "            ('third', 'overseas'))]['warehouse_id'].unique().tolist()\n",
    "\n",
    "    def exe_order_sql(self, function):\n",
    "        sql_ck = function()\n",
    "        try:\n",
    "            df_ck = ck_read(self.client, sql_ck)\n",
    "            if not df_ck.empty:\n",
    "                self.result = df_ck.dropna()\n",
    "            else:\n",
    "                print('数据为空')\n",
    "        except Exception as e:\n",
    "            print(e)\n",
    "            # 输出错误信息\n",
    "        return self.result\n",
    "\n",
    "    def ym_order_sql(self):\n",
    "        \"\"\"生成订单查询的sql语句\"\"\"\n",
    "        sql_ck = f\"\"\"with '{self.start_date}' as start_day,\n",
    "            '{self.end_date}' as end_day,\n",
    "            order_list as (\n",
    "                select\n",
    "                    *\n",
    "                from\n",
    "                    yibai_dcm_order_sync.dcm_order\n",
    "                where\n",
    "                    purchase_time >= start_day\n",
    "                    and purchase_time < end_day \n",
    "                    -- and platform_code not in ('TTS') --剔除tiktok的订单\n",
    "                    and order_status in (30, 50, 60, 70)\n",
    "                    and order_type in (1, 2, 3)\n",
    "                    and platform_status != 'Canceled'\n",
    "                    and payment_status = 1\n",
    "                    and is_abnormal = 0\n",
    "                    and is_intercept = 0\n",
    "                    and refund_status in (0, 2)\n",
    "                    and total_price != 0\n",
    "                    and match(order_id, '-RE') = 0\n",
    "                    and warehouse_id in (\n",
    "                        select\n",
    "                            id\n",
    "                        from\n",
    "                            yb_datacenter.yb_warehouse\n",
    "                        where\n",
    "                            (\n",
    "                                `type` IN ('third', 'overseas')\n",
    "                                AND enabled IN (1)\n",
    "                                and country not in ('CN')\n",
    "                            )\n",
    "                            or id in(481, 854)\n",
    "                    ) -- union all \n",
    "            ),\n",
    "            warehouse_df as (\n",
    "                select\n",
    "                    whid.*\n",
    "                except\n",
    "            (real_warehouse_id),\n",
    "                    yws.name as real_warehouse_name\n",
    "                from\n",
    "                    (\n",
    "                        select\n",
    "                            id as warehouse_id,\n",
    "                            name as warehouse_name,\n",
    "                            `type` as warehouse_type,\n",
    "                            code as warehouse_code,\n",
    "                            real_warehouse_id,\n",
    "                            country as warehouse_country\n",
    "                        from\n",
    "                            yb_datacenter.yb_warehouse\n",
    "                    ) whid\n",
    "                    left join yb_datacenter.yb_warehouse yws on whid.real_warehouse_id = yws.id\n",
    "            ),\n",
    "            order_list_df_with_warehouse_df as (\n",
    "                select\n",
    "                    oldf.*,\n",
    "                    wd.*\n",
    "                except\n",
    "            (warehouse_id)\n",
    "                from\n",
    "                    order_list oldf\n",
    "                    inner join warehouse_df wd on oldf.warehouse_id = wd.warehouse_id\n",
    "            ),\n",
    "            order_detail_df as (\n",
    "                select\n",
    "                    *\n",
    "                from\n",
    "                    yibai_dcm_order_sync.dcm_order_detail\n",
    "                where\n",
    "                    order_id in (\n",
    "                        select\n",
    "                            order_id\n",
    "                        from\n",
    "                            order_list_df_with_warehouse_df\n",
    "                    )\n",
    "            ),\n",
    "            order_sku_df as (\n",
    "                select\n",
    "                    *\n",
    "                from\n",
    "                    yibai_dcm_order_sync.dcm_order_sku\n",
    "                where\n",
    "                    order_id in (\n",
    "                        select\n",
    "                            order_id\n",
    "                        from\n",
    "                            order_list_df_with_warehouse_df\n",
    "                    )\n",
    "            ),\n",
    "            order_profit_df as (\n",
    "                select\n",
    "                    order_id,\n",
    "                    profit,\n",
    "                    profit_rate,\n",
    "                    true_profit_rate as true_profit_rate_new1\n",
    "                from\n",
    "                    yibai_dcm_order_sync.dcm_order_profit\n",
    "                where\n",
    "                    order_id in (\n",
    "                        select\n",
    "                            order_id\n",
    "                        from\n",
    "                            order_list_df_with_warehouse_df\n",
    "                    )\n",
    "            )\n",
    "            select\n",
    "                a.order_id as order_id,\n",
    "                a.platform_order_id as platform_order_id,\n",
    "                a.account_id as account_id,\n",
    "                b.seller_sku as seller_sku,\n",
    "                c.sku as sku,\n",
    "                b.platform_code as platform_code,\n",
    "                c.quantity as quantity,\n",
    "                a.purchase_time as purchase_time,\n",
    "                date(a.payment_time) as update_time,\n",
    "                a.payment_time as payment_time,\n",
    "                a.ship_country as ship_country,\n",
    "                a.ship_country_name as ship_country_name,\n",
    "                a.warehouse_id as warehouse_id,\n",
    "                a.is_ship_process as is_ship_process,\n",
    "                a.platform_status as platform_status,\n",
    "                a.total_price as total_price,\n",
    "                a.warehouse_country as warehouse_country,\n",
    "                a.warehouse_name as warehouse_name,\n",
    "                a.warehouse_type as warehouse_type,\n",
    "                a.warehouse_code as warehouse_code,\n",
    "                a.real_warehouse_name as real_warehouse_name,\n",
    "                d.profit as profit,\n",
    "                if(\n",
    "                    ifNull(d.true_profit_rate_new1, '0') = '0',\n",
    "                    d.profit_rate,\n",
    "                    d.true_profit_rate_new1\n",
    "                ) as profit_rate\n",
    "            from\n",
    "                order_list_df_with_warehouse_df a\n",
    "                right join order_detail_df b on a.order_id = b.order_id\n",
    "                right join order_sku_df c on b.id = c.order_detail_id\n",
    "                right join order_profit_df d on a.order_id = d.order_id;\"\"\"\n",
    "        # print(sql_ck)\n",
    "        return sql_ck\n",
    "\n",
    "    def month_order(self):\n",
    "        \"\"\"根据时间拉取销量\"\"\"\n",
    "        self.result = self.exe_order_sql(function=self.ym_order_sql)\n",
    "        self.result = self.result[self.result['profit']!='999999.9999']\n",
    "        self.duck_order.to_parquet_hive(\n",
    "            self.result, f\"ym_order\", partition_cols='update_time')\n",
    "        return self.result\n",
    "\n",
    "\n",
    "def main():\n",
    "    date_generator = DateGenerator('2024-09-01', '2024-12-25')\n",
    "    for year, month in date_generator._generate_dates():\n",
    "        print(year, month, end='\\t')\n",
    "        start_date = datetime.strptime(f'{year}-{month}-01', '%Y-%m-%d')\n",
    "        end_date = start_date + relativedelta(months=1)\n",
    "        ym_order = YM_order_listing(start_date=start_date, end_date=end_date)\n",
    "        ym_order.month_order()\n",
    "    print(\"订单信息已生成\")\n",
    "\n",
    "\n",
    "# if __name__ == '__main__':\n",
    "    # ym_order = YM_order_listing(start_date='2024-12-01', end_date='2024-12-10')\n",
    "    # ym_order.month_order()\n",
    "    # main()\n"
   ]
  },
  {
   "cell_type": "code",
   "execution_count": 23,
   "metadata": {},
   "outputs": [],
   "source": [
    "df['时间'] = df['update_time'].dt.strftime('%Y-%m')"
   ]
  },
  {
   "cell_type": "code",
   "execution_count": 20,
   "metadata": {},
   "outputs": [],
   "source": [
    "df.to_excel(r'C:\\Users\\Administrator\\Desktop\\易佰23年1月到24年海外仓订单.xlsx',index=False)"
   ]
  },
  {
   "cell_type": "code",
   "execution_count": 16,
   "metadata": {},
   "outputs": [],
   "source": [
    "duck = GetFromDuckdb(database='mrp_oversea')\n",
    "sql = f\"\"\"select sku ,ship_country,sum(ifnull(sku_quantity::int,0)) as sku_quantity_1_4,update_time\n",
    "from read_parquet('E:/duck/parquet_file/yb_oversea_order/*/*.parquet', union_by_name=true) \n",
    "where update_time >='2023-01-01' and update_time <'2024-01-01' \n",
    "group by update_time,sku ,ship_country\"\"\"\n",
    "df = duck.exe_duckdb(sql)\n",
    "# df.to_excel(r'C:\\Users\\Administrator\\Desktop\\易佰23年1月到24年海外仓订单.xlsx',index=False)"
   ]
  },
  {
   "cell_type": "code",
   "execution_count": 17,
   "metadata": {},
   "outputs": [],
   "source": [
    "df.rename(columns={'sku': 'SKU'}, inplace=True)"
   ]
  },
  {
   "cell_type": "code",
   "execution_count": 18,
   "metadata": {},
   "outputs": [
    {
     "name": "stderr",
     "output_type": "stream",
     "text": [
      "100%|██████████| 6/6 [00:01<00:00,  3.63it/s]"
     ]
    },
    {
     "name": "stdout",
     "output_type": "stream",
     "text": [
      "<class 'pandas.core.frame.DataFrame'>\n",
      "Index: 10597 entries, 0 to 734\n",
      "Data columns (total 17 columns):\n",
      " #   Column     Non-Null Count  Dtype  \n",
      "---  ------     --------------  -----  \n",
      " 0   SKU        10597 non-null  object \n",
      " 1   最新采购价_元_   10597 non-null  object \n",
      " 2   是否可退税      10597 non-null  object \n",
      " 3   最小退税标准     10597 non-null  float64\n",
      " 4   开票点        10597 non-null  float64\n",
      " 5   是否维护开票点    10597 non-null  object \n",
      " 6   最小起订量      10597 non-null  int64  \n",
      " 7   供应商编码      10597 non-null  object \n",
      " 8   整箱箱率       10597 non-null  int64  \n",
      " 9   商品名称       10597 non-null  object \n",
      " 10  外箱尺寸_cm_   10597 non-null  object \n",
      " 11  外箱体积_cm³_  10597 non-null  float64\n",
      " 12  产品包装长_cm_  10597 non-null  float64\n",
      " 13  产品包装宽_cm_  10597 non-null  float64\n",
      " 14  产品包装高_cm_  10597 non-null  float64\n",
      " 15  产品包装重量_g_  10597 non-null  float64\n",
      " 16  产品体积_m³_   10597 non-null  float64\n",
      "dtypes: float64(8), int64(2), object(7)\n",
      "memory usage: 1.5+ MB\n",
      "None\n"
     ]
    },
    {
     "name": "stderr",
     "output_type": "stream",
     "text": [
      "\n"
     ]
    }
   ],
   "source": [
    "from math import ceil \n",
    "from tqdm import tqdm\n",
    "def product_sku(df):\n",
    "    \"\"\"SKU信息：最新采购价(元),最小起订量,整箱箱率,外箱尺寸(cm),整箱重量(kg),外箱体积(cm³)\"\"\"\n",
    "    df['SKU'] = df['SKU'].astype(str).str.replace(r'\\((.*)|\\s*|\\t*', '')\n",
    "    sku_list = df['SKU'].dropna().unique().tolist()\n",
    "    num = 2000\n",
    "    count = ceil(len(sku_list) / num)\n",
    "    df_purchase_data = pd.DataFrame()\n",
    "    for i in tqdm(range(count)):\n",
    "        sql9 = f'''SELECT sku AS SKU, last_price AS \"最新采购价(元)\",\n",
    "        case \n",
    "            when is_drawback = 0 then '否' else '是' \n",
    "        end AS \"是否可退税\",\n",
    "        500/(tax_rate/100)*(1+ticketed_point/100)/last_price  as \"最小退税标准\" ,\n",
    "        ticketed_point/100 as \"开票点\",\n",
    "        case when maintain_ticketed_point = 0 then '没有维护' else '有维护' end AS \"是否维护开票点\",\n",
    "        starting_qty AS \"最小起订量\", supplier_code AS \"供应商编码\",inside_number AS \"整箱箱率\",product_name as \"商品名称\",\n",
    "        box_size AS \"外箱尺寸(cm)\", outer_box_volume AS \"外箱体积(cm³)\",\n",
    "        sample_package_length as \"产品包装长(cm)\", sample_package_width \"产品包装宽(cm)\", sample_package_heigth \"产品包装高(cm)\", sample_package_weight \"产品包装重量(g)\" ,\n",
    "        sample_package_length*sample_package_width*sample_package_heigth/1000000 \"产品体积(m³)\"\n",
    "        FROM yibai_purchase_sync.pur_product\n",
    "        WHERE sku in ({\", \".join([\"'{}'\".format(sku) for sku in sku_list[i*num:(i+1)*num]])}) '''\n",
    "        purchase_data_0 = read_password(84, sql_name=sql9)\n",
    "        df_purchase_data = pd.concat(\n",
    "            [df_purchase_data, purchase_data_0], axis=0)\n",
    "    df_purchase_data['SKU'] = df_purchase_data['SKU'].astype(str).str.replace(\n",
    "        r'\\((.*)|\\s*|\\t*', '')\n",
    "    df_purchase_data = df_purchase_data.drop_duplicates()\n",
    "    print(df_purchase_data.info())\n",
    "    df_purchase_data.loc[df_purchase_data['整箱箱率'] == 0, '整箱箱率'] = 1\n",
    "    df_purchase_data.loc[df_purchase_data['整箱箱率'] == '无', '整箱箱率'] = 1\n",
    "    df_purchase_data.loc[df_purchase_data['整箱箱率'].isnull(), '整箱箱率'] = 1\n",
    "    df_purchase_data.loc[df_purchase_data['最小起订量'] == 0, '最小起订量'] = 1\n",
    "    df_purchase_data.loc[df_purchase_data['最小起订量'] == '无', '最小起订量'] = 1\n",
    "    df_purchase_data.loc[df_purchase_data['最小起订量'].isnull(), '最小起订量'] = 1\n",
    "    df_purchase_data =df_purchase_data[['最新采购价_元_','SKU']]\n",
    "    df = df.merge(df_purchase_data, on='SKU', how='left')\n",
    "    return df\n",
    "\n",
    "df = product_sku(df)\n"
   ]
  },
  {
   "cell_type": "code",
   "execution_count": 13,
   "metadata": {},
   "outputs": [
    {
     "data": {
      "text/html": [
       "<div>\n",
       "<style scoped>\n",
       "    .dataframe tbody tr th:only-of-type {\n",
       "        vertical-align: middle;\n",
       "    }\n",
       "\n",
       "    .dataframe tbody tr th {\n",
       "        vertical-align: top;\n",
       "    }\n",
       "\n",
       "    .dataframe thead th {\n",
       "        text-align: right;\n",
       "    }\n",
       "</style>\n",
       "<table border=\"1\" class=\"dataframe\">\n",
       "  <thead>\n",
       "    <tr style=\"text-align: right;\">\n",
       "      <th></th>\n",
       "      <th>SKU</th>\n",
       "      <th>ship_country</th>\n",
       "      <th>sku_quantity_1_4</th>\n",
       "      <th>update_time</th>\n",
       "      <th>最新采购价_元_</th>\n",
       "    </tr>\n",
       "  </thead>\n",
       "  <tbody>\n",
       "    <tr>\n",
       "      <th>0</th>\n",
       "      <td>1613210005711</td>\n",
       "      <td>PH</td>\n",
       "      <td>8.0</td>\n",
       "      <td>2024-01-01</td>\n",
       "      <td>7.8</td>\n",
       "    </tr>\n",
       "    <tr>\n",
       "      <th>1</th>\n",
       "      <td>JM01384-01</td>\n",
       "      <td>PH</td>\n",
       "      <td>4.0</td>\n",
       "      <td>2024-01-01</td>\n",
       "      <td>7</td>\n",
       "    </tr>\n",
       "    <tr>\n",
       "      <th>2</th>\n",
       "      <td>JM02681</td>\n",
       "      <td>PH</td>\n",
       "      <td>1.0</td>\n",
       "      <td>2024-01-01</td>\n",
       "      <td>26.01</td>\n",
       "    </tr>\n",
       "    <tr>\n",
       "      <th>3</th>\n",
       "      <td>QC17698-03</td>\n",
       "      <td>PH</td>\n",
       "      <td>3.0</td>\n",
       "      <td>2024-01-01</td>\n",
       "      <td>5.5</td>\n",
       "    </tr>\n",
       "    <tr>\n",
       "      <th>4</th>\n",
       "      <td>GS00951</td>\n",
       "      <td>PH</td>\n",
       "      <td>1.0</td>\n",
       "      <td>2024-01-01</td>\n",
       "      <td>5.5</td>\n",
       "    </tr>\n",
       "    <tr>\n",
       "      <th>...</th>\n",
       "      <td>...</td>\n",
       "      <td>...</td>\n",
       "      <td>...</td>\n",
       "      <td>...</td>\n",
       "      <td>...</td>\n",
       "    </tr>\n",
       "    <tr>\n",
       "      <th>130952</th>\n",
       "      <td>GS04339</td>\n",
       "      <td>RU</td>\n",
       "      <td>2.0</td>\n",
       "      <td>2024-04-30</td>\n",
       "      <td>26.5</td>\n",
       "    </tr>\n",
       "    <tr>\n",
       "      <th>130953</th>\n",
       "      <td>2613210036411</td>\n",
       "      <td>RU</td>\n",
       "      <td>1.0</td>\n",
       "      <td>2024-04-30</td>\n",
       "      <td>25</td>\n",
       "    </tr>\n",
       "    <tr>\n",
       "      <th>130954</th>\n",
       "      <td>1613230007711</td>\n",
       "      <td>RU</td>\n",
       "      <td>1.0</td>\n",
       "      <td>2024-04-30</td>\n",
       "      <td>36.09</td>\n",
       "    </tr>\n",
       "    <tr>\n",
       "      <th>130955</th>\n",
       "      <td>1613220012711</td>\n",
       "      <td>RU</td>\n",
       "      <td>1.0</td>\n",
       "      <td>2024-04-30</td>\n",
       "      <td>40.02</td>\n",
       "    </tr>\n",
       "    <tr>\n",
       "      <th>130956</th>\n",
       "      <td>GS01554-01</td>\n",
       "      <td>RU</td>\n",
       "      <td>1.0</td>\n",
       "      <td>2024-04-30</td>\n",
       "      <td>37.5</td>\n",
       "    </tr>\n",
       "  </tbody>\n",
       "</table>\n",
       "<p>130957 rows × 5 columns</p>\n",
       "</div>"
      ],
      "text/plain": [
       "                  SKU ship_country  sku_quantity_1_4 update_time 最新采购价_元_\n",
       "0       1613210005711           PH               8.0  2024-01-01      7.8\n",
       "1          JM01384-01           PH               4.0  2024-01-01        7\n",
       "2             JM02681           PH               1.0  2024-01-01    26.01\n",
       "3          QC17698-03           PH               3.0  2024-01-01      5.5\n",
       "4             GS00951           PH               1.0  2024-01-01      5.5\n",
       "...               ...          ...               ...         ...      ...\n",
       "130952        GS04339           RU               2.0  2024-04-30     26.5\n",
       "130953  2613210036411           RU               1.0  2024-04-30       25\n",
       "130954  1613230007711           RU               1.0  2024-04-30    36.09\n",
       "130955  1613220012711           RU               1.0  2024-04-30    40.02\n",
       "130956     GS01554-01           RU               1.0  2024-04-30     37.5\n",
       "\n",
       "[130957 rows x 5 columns]"
      ]
     },
     "execution_count": 13,
     "metadata": {},
     "output_type": "execute_result"
    }
   ],
   "source": [
    "df"
   ]
  },
  {
   "cell_type": "code",
   "execution_count": 5,
   "metadata": {},
   "outputs": [],
   "source": [
    "df = pd.read_excel(r'C:\\\\Users\\\\Administrator\\\\Desktop\\\\开发来源.xlsx')\n",
    "df_1 = read_password(81,sql_name=f\"\"\"\n",
    "\tSELECT\n",
    "\t\tsku ,\n",
    "\t\tcase \n",
    "\t\t\twhen develop_source = 14 then '通拓'\n",
    "\t\t\twhen develop_source = 15 then '通拓'\n",
    "\t\t\twhen develop_source = 22 then '通拓'\n",
    "\t\t\telse '易佰'\n",
    "\t\tend as \"开发类型\"\n",
    "\tfrom yibai_prod_base_sync.yibai_prod_sku;\"\"\")\n",
    "df = df.merge(df_1 ,how = 'left',on = 'sku')"
   ]
  },
  {
   "cell_type": "code",
   "execution_count": 7,
   "metadata": {},
   "outputs": [],
   "source": [
    "df.to_excel(r'C:\\\\Users\\\\Administrator\\\\Desktop\\\\开发来源.xlsx')"
   ]
  },
  {
   "cell_type": "code",
   "execution_count": 163,
   "metadata": {},
   "outputs": [],
   "source": [
    "sql = f\"\"\"SELECT sku as SKU,warehouse_id ,available_stock as \"可用库存\" FROM yb_stock_center.yb_stock x\n",
    "    WHERE cargo_owner_id =8  and available_stock>0\"\"\"\n",
    "df_warehouse = read_password(63, sql)\n",
    "df_warehouse_copy = df_warehouse.rename(\n",
    "        columns={'可用库存': '虚拟仓库存'})"
   ]
  },
  {
   "cell_type": "code",
   "execution_count": 111,
   "metadata": {},
   "outputs": [],
   "source": [
    "df_warehouse_copy = df_warehouse_copy.merge(warehouse, how='left',on='warehouse_id')\n",
    "df_warehouse_copy = df_warehouse_copy[~df_warehouse_copy['warehouse_name'].isna()]\n",
    "df_warehouse_copy = df_warehouse_copy[df_warehouse_copy['warehouse_name'].str.contains('Temu')]"
   ]
  },
  {
   "cell_type": "code",
   "execution_count": 120,
   "metadata": {},
   "outputs": [],
   "source": [
    "from  header_files.func import root_window_path\n",
    "file = root_window_path()\n",
    "df = pd.read_excel(file)"
   ]
  },
  {
   "cell_type": "code",
   "execution_count": 127,
   "metadata": {},
   "outputs": [],
   "source": [
    "df = df.rename(columns={'原仓': 'warehouse_name'})"
   ]
  },
  {
   "cell_type": "code",
   "execution_count": 134,
   "metadata": {},
   "outputs": [],
   "source": [
    "df_1.to_excel('C:/Users/Administrator/Desktop/独享仓调拨.xlsx')"
   ]
  },
  {
   "cell_type": "code",
   "execution_count": 136,
   "metadata": {},
   "outputs": [],
   "source": [
    "df_1['虚拟仓库存'] = df_1['虚拟仓库存'].fillna(0)"
   ]
  },
  {
   "cell_type": "code",
   "execution_count": 141,
   "metadata": {},
   "outputs": [],
   "source": [
    "df_1 = df_1[df_1['虚拟仓库存']<=1]"
   ]
  },
  {
   "cell_type": "code",
   "execution_count": 154,
   "metadata": {},
   "outputs": [],
   "source": [
    "df_1 =df_1.merge(warehouse[['warehouse_name','real_warehouse_name']],how='left',on='warehouse_name')"
   ]
  },
  {
   "cell_type": "code",
   "execution_count": 171,
   "metadata": {},
   "outputs": [],
   "source": [
    "df_1 = df_1.merge(df_warehouse_copy_real[['real_warehouse_name','SKU','虚拟仓库存']],how='left',on=['SKU','real_warehouse_name'])"
   ]
  },
  {
   "cell_type": "code",
   "execution_count": 167,
   "metadata": {},
   "outputs": [],
   "source": [
    "df_warehouse_copy_real = df_warehouse_copy[df_warehouse_copy['real_warehouse_name']==df_warehouse_copy['warehouse_name']]"
   ]
  },
  {
   "cell_type": "code",
   "execution_count": 179,
   "metadata": {},
   "outputs": [],
   "source": [
    "df_warehouse_copy[df_warehouse_copy['type'].isin(['third'])].to_excel('C:/Users/Administrator/Desktop/独享仓调拨11.xlsx')"
   ]
  },
  {
   "cell_type": "code",
   "execution_count": null,
   "metadata": {},
   "outputs": [],
   "source": []
  },
  {
   "cell_type": "code",
   "execution_count": null,
   "metadata": {},
   "outputs": [],
   "source": []
  },
  {
   "cell_type": "code",
   "execution_count": null,
   "metadata": {},
   "outputs": [],
   "source": []
  },
  {
   "cell_type": "code",
   "execution_count": null,
   "metadata": {},
   "outputs": [],
   "source": []
  },
  {
   "cell_type": "code",
   "execution_count": null,
   "metadata": {},
   "outputs": [],
   "source": []
  },
  {
   "cell_type": "code",
   "execution_count": 133,
   "metadata": {},
   "outputs": [],
   "source": [
    "df_1 = df.merge(df_warehouse_copy,how='left',on=['SKU','warehouse_name'])"
   ]
  },
  {
   "cell_type": "code",
   "execution_count": 3,
   "metadata": {},
   "outputs": [],
   "source": [
    "sql_four_stock = f\"\"\"SELECT sku,destination_warehouse,\"采购在途数量\",\"中转仓库存数量\",\"海外仓在途数量\",\"海外仓库存数量\" \n",
    "FROM yibai_mrp_oversea.yibai_oversea_four_stock_all_20241210 x\n",
    "WHERE \"采购在途数量\"+\"中转仓库存数量\"+\"海外仓在途数量\"+\"海外仓库存数量\">0 AND destination_warehouse not in ('DE8','RU6','ST6')\"\"\"\n",
    "df = read_password(id_int=71,sql_name=sql_four_stock)"
   ]
  },
  {
   "cell_type": "code",
   "execution_count": 6,
   "metadata": {},
   "outputs": [],
   "source": [
    "duck = GetFromDuckdb(database='mrp_oversea')"
   ]
  },
  {
   "cell_type": "code",
   "execution_count": 12,
   "metadata": {},
   "outputs": [],
   "source": [
    "from pandas import DataFrame\n",
    "import yaml \n",
    "\n",
    "def warehouse_info() -> DataFrame:\n",
    "    duck = GetFromDuckdb(database='oversea')\n",
    "    df_temp = read_password(60, f\"\"\"with ware as (SELECT x.* FROM yb_stock_center.yb_warehouse x),\n",
    "            house as (\n",
    "            SELECT x.id as real_warehouse_id, name as real_warehouse_name,code as real_warehouse_code FROM yb_stock_center.yb_warehouse x\n",
    "            WHERE real_warehouse_id = id)\n",
    "            SELECT wa.id as warehouse_id , wa.name as warehouse_name ,wa.code as warehouse_code,wa.type,\n",
    "            hs.real_warehouse_id,hs.real_warehouse_name as real_warehouse_name,hs.real_warehouse_code as real_warehouse_code,\n",
    "            enabled,country,create_time\n",
    "            from ware wa left join house hs on wa.real_warehouse_id = hs.real_warehouse_id;\"\"\")\n",
    "    with open(r'D:\\VScode\\learn-git\\my-repo\\header_files\\country_codes.yaml', 'r', encoding='utf-8') as stream:\n",
    "        data = yaml.safe_load(stream)  # 只调用一次，并将结果存储在 data 变量中\n",
    "        country_code_to_name = data.get(\n",
    "            'country_code_to_name', None)  # 使用 get 方法，避免 KeyError\n",
    "    df_temp['warehouse'] = df_temp['country'].map(country_code_to_name)\n",
    "    df_temp['warehouse'] = df_temp['warehouse'] + '仓'\n",
    "    duck.to_duckdb(df_temp, 'yb_warehouse', if_exists='replace')\n",
    "    df_temp = df_temp[df_temp['enabled'] == 1]\n",
    "    return df_temp\n",
    "\n",
    "warehouse = warehouse_info()"
   ]
  },
  {
   "cell_type": "code",
   "execution_count": 16,
   "metadata": {},
   "outputs": [],
   "source": [
    "df = df.merge(warehouse, how='left', left_on='destination_warehouse',right_on = 'warehouse_name')\n",
    "df.loc[df['destination_warehouse'] == 'XYD菲律宾海外仓', 'warehouse'] = '菲律宾仓'\n",
    "df.loc[df['destination_warehouse'] == 'XYD马来海外仓', 'warehouse'] = '马来西亚仓'"
   ]
  },
  {
   "cell_type": "code",
   "execution_count": 27,
   "metadata": {},
   "outputs": [
    {
     "name": "stderr",
     "output_type": "stream",
     "text": [
      "100%|██████████| 41/41 [00:09<00:00,  4.39it/s]\n"
     ]
    },
    {
     "name": "stdout",
     "output_type": "stream",
     "text": [
      "product_sku函数执行时间为:00:00:09\n"
     ]
    }
   ],
   "source": [
    "from datetime import datetime,timedelta\n",
    "import pandas as pd\n",
    "from header_files.func import read_password, root_window_path, time_wrapper\n",
    "from header_files.pandas_sql import GetFromDuckdb,DateGenerator\n",
    "from header_files.orderlisting import OrderListing\n",
    "import pymysql\n",
    "from tqdm import tqdm\n",
    "import yaml\n",
    "from math import ceil\n",
    "\n",
    "@time_wrapper\n",
    "def product_sku(df):\n",
    "    \"\"\"SKU信息：最新采购价(元),最小起订量,整箱箱率,外箱尺寸(cm),整箱重量(kg),外箱体积(cm³)\"\"\"\n",
    "    df['sku'] = df['sku'].astype(str).str.replace(r'\\((.*)|\\s*|\\t*', '')\n",
    "    conn6 = pymysql.connect(host='121.37.228.71',\n",
    "                            port=9030,\n",
    "                            user='yibai208384',\n",
    "                            password='XjcT3ImVrb',\n",
    "                            database='yibai_purchase')\n",
    "    sku_list = df['sku'].dropna().unique().tolist()\n",
    "    num = 2000\n",
    "    count = ceil(len(sku_list) / num)\n",
    "    df_purchase_data = pd.DataFrame()\n",
    "    for i in tqdm(range(count)):\n",
    "        sql9 = f'''SELECT sku, last_price AS \"最新采购价(元)\"\n",
    "        FROM yibai_purchase.pur_product\n",
    "        WHERE sku in ({\", \".join([\"'{}'\".format(sku) for sku in sku_list[i*num:(i+1)*num]])}) '''\n",
    "        purchase_data_0 = pd.read_sql(sql9, conn6)\n",
    "        df_purchase_data = pd.concat(\n",
    "            [df_purchase_data, purchase_data_0], axis=0)\n",
    "    df_purchase_data['sku'] = df_purchase_data['sku'].astype(str).str.replace(\n",
    "        r'\\((.*)|\\s*|\\t*', '')\n",
    "    df_purchase_data = df_purchase_data.drop_duplicates()\n",
    "    # df_purchase_data =df_purchase_data[['商品名称','SKU']]\n",
    "    df = df.merge(df_purchase_data, on='sku', how='left')\n",
    "    return df\n",
    "\n",
    "df= product_sku(df)\n",
    "\n",
    "df_1 = read_password(81,sql_name=f\"\"\"\n",
    "\tSELECT\n",
    "\t\tsku ,\n",
    "\t\tcase \n",
    "\t\t\twhen develop_source = 14 then '通拓'\n",
    "\t\t\twhen develop_source = 15 then '通拓'\n",
    "\t\t\twhen develop_source = 22 then '通拓'\n",
    "\t\t\telse '易佰'\n",
    "\t\tend as \"开发类型\"\n",
    "\tfrom yibai_prod_base_sync.yibai_prod_sku;\"\"\")\n",
    "df = df.merge(df_1 ,how = 'left',on = 'sku')\n",
    "df['最新采购价(元)'] = df['最新采购价(元)'].fillna(40)\n"
   ]
  },
  {
   "cell_type": "code",
   "execution_count": 93,
   "metadata": {},
   "outputs": [],
   "source": [
    "sql = f\"\"\"WITH aa AS (select order_id,platform_order_id ,account_id ,seller_sku ,sku ,platform_code ,quantity ,purchase_time,\n",
    "    warehouse_id ,total_price ,profit ,profit_rate,\n",
    "    toFloat64(ifNull(last_price,0)) as last_price\n",
    "from yibai_mrp_oversea.yibai_oversea_orders_statistics_temp_all_20241210 a\n",
    "left join yibai_purchase_sync.pur_product b on a.sku=b.sku\n",
    "union all\n",
    "select order_id,platform_order_id ,account_id ,seller_sku ,sku ,platform_code ,quantity ,purchase_time,\n",
    "    warehouse_id ,total_price ,toString(profit) as profit ,toString(profit_rate) as profit_rate,toFloat64(ifNull(new_price,0)) as last_price\n",
    "from yibai_mrp_oversea.yibai_oversea_dcm_orders_statistics_temp_all_20241210 a\n",
    "left join yibai_dcm_base_sync.dcm_product b on a.sku=b.sku\n",
    "union all\n",
    "select order_id,platform_order_id ,account_id ,seller_sku ,sku ,platform_code ,quantity ,toDateTime(purchase_time) purchase_time,\n",
    "    warehouse_id ,total_price ,toString(profit) as profit ,toString(profit_rate) as profit_rate,last_price\n",
    "from yibai_mrp_oversea.tt_orders_20241210)\n",
    "SELECT sku,SUM( quantity*last_price) AS \"销库金额\" \n",
    "FROM aa \n",
    "WHERE purchase_time>'2024-11-10'\n",
    "GROUP BY sku;\"\"\""
   ]
  },
  {
   "cell_type": "code",
   "execution_count": 94,
   "metadata": {},
   "outputs": [],
   "source": [
    "df = read_password(id_int=75,sql_name=sql)\n",
    "df_1 = read_password(81,sql_name=f\"\"\"\n",
    "\tSELECT\n",
    "\t\tsku ,\n",
    "\t\tcase \n",
    "\t\t\twhen develop_source = 14 then '通拓'\n",
    "\t\t\twhen develop_source = 15 then '通拓'\n",
    "\t\t\twhen develop_source = 22 then '通拓'\n",
    "\t\t\telse '易佰'\n",
    "\t\tend as \"开发类型\"\n",
    "\tfrom yibai_prod_base_sync.yibai_prod_sku;\"\"\")\n",
    "df = df.merge(df_1 ,how = 'left',on = 'sku')"
   ]
  },
  {
   "cell_type": "code",
   "execution_count": 97,
   "metadata": {},
   "outputs": [],
   "source": [
    "df['开发类型'] = df['开发类型'].fillna('易佰')"
   ]
  },
  {
   "cell_type": "code",
   "execution_count": 98,
   "metadata": {},
   "outputs": [
    {
     "data": {
      "text/html": [
       "<div>\n",
       "<style scoped>\n",
       "    .dataframe tbody tr th:only-of-type {\n",
       "        vertical-align: middle;\n",
       "    }\n",
       "\n",
       "    .dataframe tbody tr th {\n",
       "        vertical-align: top;\n",
       "    }\n",
       "\n",
       "    .dataframe thead th {\n",
       "        text-align: right;\n",
       "    }\n",
       "</style>\n",
       "<table border=\"1\" class=\"dataframe\">\n",
       "  <thead>\n",
       "    <tr style=\"text-align: right;\">\n",
       "      <th></th>\n",
       "      <th>sku</th>\n",
       "      <th>销库金额</th>\n",
       "      <th>开发类型</th>\n",
       "    </tr>\n",
       "  </thead>\n",
       "  <tbody>\n",
       "    <tr>\n",
       "      <th>0</th>\n",
       "      <td>GS07402</td>\n",
       "      <td>336.0</td>\n",
       "      <td>易佰</td>\n",
       "    </tr>\n",
       "    <tr>\n",
       "      <th>1</th>\n",
       "      <td>JYB00242</td>\n",
       "      <td>221.0</td>\n",
       "      <td>易佰</td>\n",
       "    </tr>\n",
       "    <tr>\n",
       "      <th>2</th>\n",
       "      <td>I3383</td>\n",
       "      <td>1781.9</td>\n",
       "      <td>通拓</td>\n",
       "    </tr>\n",
       "    <tr>\n",
       "      <th>3</th>\n",
       "      <td>10326072</td>\n",
       "      <td>52.0</td>\n",
       "      <td>易佰</td>\n",
       "    </tr>\n",
       "    <tr>\n",
       "      <th>4</th>\n",
       "      <td>W11199EU</td>\n",
       "      <td>196.5</td>\n",
       "      <td>通拓</td>\n",
       "    </tr>\n",
       "    <tr>\n",
       "      <th>...</th>\n",
       "      <td>...</td>\n",
       "      <td>...</td>\n",
       "      <td>...</td>\n",
       "    </tr>\n",
       "    <tr>\n",
       "      <th>74893</th>\n",
       "      <td>1618200341711</td>\n",
       "      <td>175.0</td>\n",
       "      <td>易佰</td>\n",
       "    </tr>\n",
       "    <tr>\n",
       "      <th>74894</th>\n",
       "      <td>2720220351111</td>\n",
       "      <td>100.0</td>\n",
       "      <td>易佰</td>\n",
       "    </tr>\n",
       "    <tr>\n",
       "      <th>74895</th>\n",
       "      <td>1511200054011</td>\n",
       "      <td>32.0</td>\n",
       "      <td>易佰</td>\n",
       "    </tr>\n",
       "    <tr>\n",
       "      <th>74896</th>\n",
       "      <td>YM139L2-2873062-YYR</td>\n",
       "      <td>120.0</td>\n",
       "      <td>易佰</td>\n",
       "    </tr>\n",
       "    <tr>\n",
       "      <th>74897</th>\n",
       "      <td>YM139L2-3063717-YYR</td>\n",
       "      <td>15.0</td>\n",
       "      <td>易佰</td>\n",
       "    </tr>\n",
       "  </tbody>\n",
       "</table>\n",
       "<p>74898 rows × 3 columns</p>\n",
       "</div>"
      ],
      "text/plain": [
       "                       sku    销库金额 开发类型\n",
       "0                  GS07402   336.0   易佰\n",
       "1                 JYB00242   221.0   易佰\n",
       "2                    I3383  1781.9   通拓\n",
       "3                 10326072    52.0   易佰\n",
       "4                 W11199EU   196.5   通拓\n",
       "...                    ...     ...  ...\n",
       "74893        1618200341711   175.0   易佰\n",
       "74894        2720220351111   100.0   易佰\n",
       "74895        1511200054011    32.0   易佰\n",
       "74896  YM139L2-2873062-YYR   120.0   易佰\n",
       "74897  YM139L2-3063717-YYR    15.0   易佰\n",
       "\n",
       "[74898 rows x 3 columns]"
      ]
     },
     "execution_count": 98,
     "metadata": {},
     "output_type": "execute_result"
    }
   ],
   "source": [
    "df"
   ]
  },
  {
   "cell_type": "code",
   "execution_count": 34,
   "metadata": {},
   "outputs": [],
   "source": [
    "df['四段库存数量'] = df['采购在途数量']+ df['中转仓库存数量']+df['海外仓在途数量']+df['海外仓库存数量']"
   ]
  },
  {
   "cell_type": "code",
   "execution_count": 37,
   "metadata": {},
   "outputs": [],
   "source": [
    "for i in('采购在途数量', '中转仓库存数量', '海外仓在途数量','海外仓库存数量','四段库存数量'):\n",
    "    i_name =i.replace('数量', '金额(万元)')\n",
    "    df[i_name]= df[i]*df['最新采购价(元)']/10000"
   ]
  },
  {
   "cell_type": "code",
   "execution_count": 42,
   "metadata": {},
   "outputs": [],
   "source": [
    "df_tt_yb = df.groupby(by = ['开发类型','sku','warehouse']).agg({'采购在途数量':'sum', '中转仓库存数量':'sum', '海外仓在途数量':'sum','海外仓库存数量':'sum','四段库存数量':'sum','四段库存数量':'sum', '采购在途金额(万元)':'sum', '中转仓库存金额(万元)':'sum', '海外仓在途金额(万元)':'sum', '海外仓库存金额(万元)':'sum','四段库存金额(万元)':'sum'}).reset_index()"
   ]
  },
  {
   "cell_type": "code",
   "execution_count": 45,
   "metadata": {},
   "outputs": [],
   "source": [
    "df_tt_yb['warehouse'] = df_tt_yb['warehouse'].replace('捷克仓|德国仓|法国仓|意大利仓|西班牙仓','欧洲仓',regex=True)"
   ]
  },
  {
   "cell_type": "code",
   "execution_count": 47,
   "metadata": {},
   "outputs": [],
   "source": [
    "df_tt_yb = df_tt_yb.groupby(by = ['开发类型','sku','warehouse']).agg({'采购在途数量':'sum', '中转仓库存数量':'sum', '海外仓在途数量':'sum','海外仓库存数量':'sum','四段库存数量':'sum','四段库存数量':'sum', '采购在途金额(万元)':'sum', '中转仓库存金额(万元)':'sum', '海外仓在途金额(万元)':'sum', '海外仓库存金额(万元)':'sum','四段库存金额(万元)':'sum'}).reset_index()"
   ]
  },
  {
   "cell_type": "code",
   "execution_count": 51,
   "metadata": {},
   "outputs": [],
   "source": [
    "sql_ = f\"\"\"SELECT sku,site,round(SUM(quantity),0) as quantity \n",
    "FROM yibai_mrp_oversea.yibai_oversea_orders_total_all_20241210 x\n",
    "where real_rate>0 and created_time >='2024-11-10' AND created_time <'2024-12-10'\n",
    "group by sku,site;\"\"\"\n",
    "\n",
    "\n",
    "df = read_password(id_int=71,sql_name=sql_)\n"
   ]
  },
  {
   "cell_type": "code",
   "execution_count": 81,
   "metadata": {},
   "outputs": [
    {
     "name": "stderr",
     "output_type": "stream",
     "text": [
      "100%|██████████| 41/41 [00:15<00:00,  2.61it/s]\n"
     ]
    },
    {
     "name": "stdout",
     "output_type": "stream",
     "text": [
      "product_sku函数执行时间为:00:00:16\n"
     ]
    }
   ],
   "source": [
    "df_tt_yb = product_sku(df_tt_yb)\n",
    "df_tt_yb['最新采购价(元)'] = df_tt_yb['最新采购价(元)'].fillna(40)"
   ]
  },
  {
   "cell_type": "code",
   "execution_count": 83,
   "metadata": {},
   "outputs": [],
   "source": []
  },
  {
   "cell_type": "code",
   "execution_count": 61,
   "metadata": {},
   "outputs": [],
   "source": [
    "df_tt_yb['国家'] = df_tt_yb['warehouse'].str.replace('仓', '', regex=True)\n",
    "df_tt_yb =df_tt_yb.merge(df[['国家','sku','quantity']], how='left',on=['国家','sku'])\n",
    "df_tt_yb['quantity'] = df_tt_yb['quantity'].fillna(0)"
   ]
  },
  {
   "cell_type": "code",
   "execution_count": 76,
   "metadata": {},
   "outputs": [],
   "source": [
    "df['最新采购价(元)'] = df['最新采购价(元)'].fillna(40)\n",
    "df['正净利销库金额'] = df['quantity'] * df['最新采购价(元)']"
   ]
  },
  {
   "cell_type": "code",
   "execution_count": 56,
   "metadata": {},
   "outputs": [
    {
     "name": "stderr",
     "output_type": "stream",
     "text": [
      "100%|██████████| 30/30 [00:11<00:00,  2.62it/s]\n"
     ]
    },
    {
     "name": "stdout",
     "output_type": "stream",
     "text": [
      "product_sku函数执行时间为:00:00:11\n"
     ]
    }
   ],
   "source": [
    "with open(r'D:\\VScode\\learn-git\\my-repo\\header_files\\country_codes.yaml', 'r', encoding='utf-8') as stream:\n",
    "    data = yaml.safe_load(stream)  # 只调用一次，并将结果存储在 data 变量中\n",
    "    country_code_to_name = data.get(\n",
    "        'country_code_to_name', None) \n",
    "df['国家'] = df['site'].str.upper().map(country_code_to_name)\n",
    "site = '德国|法国|奥地利|爱尔兰|西班牙|比利时|保加利亚|荷兰|捷克|斯洛伐克|意大利|匈牙利|挪威|葡萄牙|瑞典|波兰|瑞士|斯洛文尼亚|卢森堡|克罗地亚|希腊|马耳他|芬兰|拉脱维亚|塞浦路斯|罗马尼亚|丹麦|土耳其'\n",
    "df['国家'] = df['国家'].str.replace(site , '欧洲',regex=True)\n",
    "df['国家'] = df['国家'].str.replace('新西兰|澳大利亚' , '澳洲',regex=True)\n",
    "df = df.groupby(by=['国家','sku']).agg({'quantity':'sum'}).reset_index()\n",
    "df = product_sku(df)\n",
    "df = df.merge(df_1 ,how = 'left',on = 'sku')"
   ]
  },
  {
   "cell_type": "code",
   "execution_count": 4,
   "metadata": {},
   "outputs": [],
   "source": [
    "duck = GetFromDuckdb(database='mrp_oversea')\n",
    "sql = f\"\"\"select * from read_parquet('E:/duck/parquet_file/*_order/*/*.parquet', union_by_name=true,hive_partitioning=True\n",
    ")where update_time >= '2024-11-19' and update_time < '2024-12-20' and profit_rate >='0.28'\"\"\"\n",
    "df = duck.exe_duckdb(sql)"
   ]
  },
  {
   "cell_type": "code",
   "execution_count": 55,
   "metadata": {},
   "outputs": [],
   "source": [
    "df.loc[df['quantity'].isna(),'quantity']=df.loc[df['quantity'].isna(),'sku_quantity']\n",
    "df_date = df[['sku','update_time','ship_country','quantity']]\n",
    "df_date['quantity'] = df_date['quantity'].astype(int)\n",
    "df_date['ship_country'] = df_date['ship_country'].str.upper()\n",
    "df_date['ship_country'] = df_date['ship_country'].replace('EAST','US',regex=True)\n",
    "df_date['ship_country'] = df_date['ship_country'].replace('SYD','AU',regex=True)\n",
    "df_date = df_date.groupby(['sku','update_time','ship_country']).agg({'quantity':'sum'}).reset_index()"
   ]
  },
  {
   "cell_type": "code",
   "execution_count": 56,
   "metadata": {},
   "outputs": [],
   "source": [
    "import yaml\n",
    "with open(r'D:\\VScode\\learn-git\\my-repo\\header_files\\country_codes.yaml', 'r', encoding='utf-8') as stream:\n",
    "    data = yaml.safe_load(stream)  # 只调用一次，并将结果存储在 data 变量中\n",
    "    country_code_to_name = data.get(\n",
    "        'country_code_to_name', None) \n",
    "df_date['国家'] = df_date['ship_country'].str.upper().map(country_code_to_name)"
   ]
  },
  {
   "cell_type": "code",
   "execution_count": 59,
   "metadata": {},
   "outputs": [],
   "source": [
    "site = '德国|法国|奥地利|爱尔兰|西班牙|比利时|保加利亚|荷兰|捷克|斯洛伐克|意大利|匈牙利|挪威|葡萄牙|瑞典|波兰|瑞士|斯洛文尼亚|卢森堡|克罗地亚|希腊|马耳他|芬兰|拉脱维亚|塞浦路斯|罗马尼亚|丹麦|土耳其|爱沙尼亚'\n",
    "df_date['国家'] = df_date['国家'].str.replace(site , '欧洲',regex=True)\n",
    "df_date['国家'] = df_date['国家'].str.replace('新西兰|澳大利亚' , '澳洲',regex=True)"
   ]
  },
  {
   "cell_type": "code",
   "execution_count": 63,
   "metadata": {},
   "outputs": [],
   "source": [
    "df_date = df_date.groupby(['sku','update_time','国家']).agg({'quantity':'sum'}).reset_index().sort_values('update_time',ascending=False)"
   ]
  },
  {
   "cell_type": "code",
   "execution_count": 62,
   "metadata": {},
   "outputs": [],
   "source": [
    "duck.to_duckdb(df_date,table_name='yb_tt_ym_order')"
   ]
  },
  {
   "cell_type": "code",
   "execution_count": 71,
   "metadata": {},
   "outputs": [],
   "source": [
    "df_date['sort_id'] = df_date.groupby(['sku', '国家'])[\n",
    "    'update_time'].rank(method='first', ascending=False)\n",
    "today = datetime.now().strftime(\"%Y%m%d\")\n",
    "duck.to_duckdb(df=df_date, table_name=f'ever_order_sort_{today}')"
   ]
  },
  {
   "cell_type": "code",
   "execution_count": 74,
   "metadata": {},
   "outputs": [
    {
     "data": {
      "text/plain": [
       "{'file': WindowsPath('E:/duckdb_database'),\n",
       " 'db_name': 'E:\\\\duckdb_database\\\\mrp_oversea.duckdb',\n",
       " 'file_save': WindowsPath('E:/duck/parquet_file'),\n",
       " 'tesk_dir': WindowsPath('D:/Desktop'),\n",
       " 'table': 'ever_order_sort_20241219'}"
      ]
     },
     "execution_count": 74,
     "metadata": {},
     "output_type": "execute_result"
    }
   ],
   "source": [
    "duck.__dict__"
   ]
  },
  {
   "cell_type": "code",
   "execution_count": 77,
   "metadata": {},
   "outputs": [],
   "source": [
    "\n",
    "sql = f\"\"\"SELECT sku as\"SKU\",\"国家\", \n",
    "    sum(case when update_time >=today()-30 and sort_id<=7 then quantity else 0 end)/7 as \"近7日正净利日均销量\",\n",
    "    sum(case when update_time >=today()-30 then quantity else 0 end) as\"近30天正净利销量总和\"\n",
    "    FROM mrp_oversea.main.ever_order_sort_{today}\n",
    "    group by \"国家\",sku\"\"\"\n",
    "df_sale_order = duck.exe_duckdb(sql)\n",
    "#data = data.merge(df_sale_order, on=['SKU', '国家'], how='left')"
   ]
  },
  {
   "cell_type": "code",
   "execution_count": 80,
   "metadata": {},
   "outputs": [
    {
     "data": {
      "text/html": [
       "<div>\n",
       "<style scoped>\n",
       "    .dataframe tbody tr th:only-of-type {\n",
       "        vertical-align: middle;\n",
       "    }\n",
       "\n",
       "    .dataframe tbody tr th {\n",
       "        vertical-align: top;\n",
       "    }\n",
       "\n",
       "    .dataframe thead th {\n",
       "        text-align: right;\n",
       "    }\n",
       "</style>\n",
       "<table border=\"1\" class=\"dataframe\">\n",
       "  <thead>\n",
       "    <tr style=\"text-align: right;\">\n",
       "      <th></th>\n",
       "      <th>order_id</th>\n",
       "      <th>platform_order_id</th>\n",
       "      <th>account_id</th>\n",
       "      <th>seller_sku</th>\n",
       "      <th>sku</th>\n",
       "      <th>platform_code</th>\n",
       "      <th>quantity</th>\n",
       "      <th>purchase_time</th>\n",
       "      <th>payment_time</th>\n",
       "      <th>update_time</th>\n",
       "      <th>...</th>\n",
       "      <th>true_profit_new1</th>\n",
       "      <th>sku_quantity</th>\n",
       "      <th>sales_status</th>\n",
       "      <th>warehouse_name</th>\n",
       "      <th>warehouse_code</th>\n",
       "      <th>type</th>\n",
       "      <th>warehouse</th>\n",
       "      <th>warehouse_country</th>\n",
       "      <th>warehouse_type</th>\n",
       "      <th>real_warehouse_name</th>\n",
       "    </tr>\n",
       "  </thead>\n",
       "  <tbody>\n",
       "  </tbody>\n",
       "</table>\n",
       "<p>0 rows × 31 columns</p>\n",
       "</div>"
      ],
      "text/plain": [
       "Empty DataFrame\n",
       "Columns: [order_id, platform_order_id, account_id, seller_sku, sku, platform_code, quantity, purchase_time, payment_time, update_time, ship_country_name, ship_country, warehouse_id, is_ship_process, platform_status, total_price, profit, profit_rate, complete_status, seller_sku_quantity, true_shipping_fee, true_profit_new1, sku_quantity, sales_status, warehouse_name, warehouse_code, type, warehouse, warehouse_country, warehouse_type, real_warehouse_name]\n",
       "Index: []\n",
       "\n",
       "[0 rows x 31 columns]"
      ]
     },
     "execution_count": 80,
     "metadata": {},
     "output_type": "execute_result"
    }
   ],
   "source": [
    "df[df['sku'] == '3114230100111']"
   ]
  },
  {
   "cell_type": "code",
   "execution_count": 78,
   "metadata": {},
   "outputs": [],
   "source": [
    "df_sale_order.to_excel(r'C:\\\\Users\\\\Administrator\\\\Desktop\\\\销量20241219.xlsx')"
   ]
  },
  {
   "cell_type": "code",
   "execution_count": 111,
   "metadata": {},
   "outputs": [],
   "source": [
    "sql = f\"\"\"with sh as (SELECT sku,case \n",
    "\twhen lower(ship_country) = 'east' then 'us' \n",
    "\twhen lower(ship_country) = 'syd' then 'au' \n",
    "\telse lower(ship_country)\n",
    "end as ship_country ,\n",
    "sum(CASE when quantity is null then sku_quantity else quantity::int end) as quantity,\n",
    "SUM(CASE WHEN profit_rate::float > 0.16  THEN CASE when quantity is null then sku_quantity else quantity::int end::int ELSE 0 END) AS \"正净利订单\"\n",
    "FROM ym_order.main.yb_tt_ym_order x\n",
    "group by sku,ship_country)\n",
    "select sku,ship_country,SUM(quantity) as quantity,SUM(\"正净利订单\") as \"正净利订单销库\" \n",
    "from sh\n",
    "group by sku,ship_country;\"\"\"\n",
    "df = duck.exe_duckdb(sql=sql)"
   ]
  },
  {
   "cell_type": "code",
   "execution_count": 112,
   "metadata": {},
   "outputs": [],
   "source": [
    "from datetime import datetime, timedelta\n",
    "import pandas as pd\n",
    "from header_files.func import read_password, root_window_path, time_wrapper\n",
    "from header_files.pandas_sql import GetFromDuckdb, DateGenerator\n",
    "from header_files.orderlisting import OrderListing\n",
    "import pymysql\n",
    "from tqdm import tqdm\n",
    "import yaml\n",
    "from math import ceil\n",
    "import warnings\n",
    "\n",
    "@time_wrapper\n",
    "def product_sku(df):\n",
    "    \"\"\"SKU信息：最新采购价(元),最小起订量,整箱箱率,外箱尺寸(cm),整箱重量(kg),外箱体积(cm³)\"\"\"\n",
    "    df['sku'] = df['sku'].astype(str).str.replace(r'\\((.*)|\\s*|\\t*', '')\n",
    "    conn6 = pymysql.connect(host='121.37.228.71',\n",
    "                            port=9030,\n",
    "                            user='yibai208384',\n",
    "                            password='XjcT3ImVrb',\n",
    "                            database='yibai_purchase')\n",
    "    sku_list = df['sku'].dropna().unique().tolist()\n",
    "    num = 2000\n",
    "    count = ceil(len(sku_list) / num)\n",
    "    df_purchase_data = pd.DataFrame()\n",
    "    for i in tqdm(range(count)):\n",
    "        sql9 = f'''SELECT sku , last_price AS \"最新采购价(元)\", starting_qty AS \"最小起订量\", supplier_code AS \"供应商编码\",inside_number AS '整箱箱率',product_name2 as \"商品名称\",\n",
    "        box_size AS '外箱尺寸(cm)', box_weight AS '整箱重量(kg)', outer_box_volume AS '外箱体积(cm³)',\n",
    "        sample_package_length as \"产品包装长(cm)\", sample_package_width \"产品包装宽(cm)\", sample_package_heigth \"产品包装高(cm)\", sample_package_weight \"产品包装重量(g)\" ,\n",
    "        sample_package_length*sample_package_width*sample_package_heigth/1000000 '产品体积(m³)'\n",
    "        FROM yibai_purchase.pur_product\n",
    "        WHERE sku in ({\", \".join([\"'{}'\".format(sku) for sku in sku_list[i*num:(i+1)*num]])}) '''\n",
    "        purchase_data_0 = pd.read_sql(sql9, conn6)\n",
    "        df_purchase_data = pd.concat(\n",
    "            [df_purchase_data, purchase_data_0], axis=0)\n",
    "    df_purchase_data['sku'] = df_purchase_data['sku'].astype(str).str.replace(\n",
    "        r'\\((.*)|\\s*|\\t*', '')\n",
    "    df_purchase_data = df_purchase_data.drop_duplicates()\n",
    "    # df_purchase_data =df_purchase_data[['商品名称','SKU']]\n",
    "    df = df.merge(df_purchase_data, on='sku', how='left')\n",
    "    return df\n",
    "\n",
    "df_1 = read_password(81,sql_name=f\"\"\"\n",
    "\tSELECT\n",
    "\t\tsku ,\n",
    "\t\tcase \n",
    "\t\t\twhen develop_source = 14 then '通拓'\n",
    "\t\t\twhen develop_source = 15 then '通拓'\n",
    "\t\t\twhen develop_source = 22 then '通拓'\n",
    "\t\t\telse '易佰'\n",
    "\t\tend as \"开发类型\"\n",
    "\tfrom yibai_prod_base_sync.yibai_prod_sku;\"\"\")\n"
   ]
  },
  {
   "cell_type": "code",
   "execution_count": 113,
   "metadata": {},
   "outputs": [
    {
     "name": "stderr",
     "output_type": "stream",
     "text": [
      "100%|██████████| 28/28 [00:13<00:00,  2.00it/s]\n"
     ]
    },
    {
     "name": "stdout",
     "output_type": "stream",
     "text": [
      "product_sku函数执行时间为:00:00:14\n"
     ]
    }
   ],
   "source": [
    "with open(r'D:\\VScode\\learn-git\\my-repo\\header_files\\country_codes.yaml', 'r', encoding='utf-8') as stream:\n",
    "    data = yaml.safe_load(stream)  # 只调用一次，并将结果存储在 data 变量中\n",
    "    country_code_to_name = data.get(\n",
    "        'country_code_to_name', None) \n",
    "df['国家'] = df['ship_country'].str.upper().map(country_code_to_name)\n",
    "site = '德国|法国|奥地利|爱尔兰|西班牙|比利时|保加利亚|荷兰|捷克|斯洛伐克|意大利|匈牙利|挪威|葡萄牙|瑞典|波兰|瑞士|斯洛文尼亚|卢森堡|克罗地亚|希腊|马耳他|芬兰|拉脱维亚|塞浦路斯|罗马尼亚|丹麦|土耳其'\n",
    "df['国家'] = df['国家'].str.replace(site , '欧洲',regex=True)\n",
    "df['国家'] = df['国家'].str.replace('新西兰|澳大利亚' , '澳洲',regex=True)\n",
    "df = df.groupby(by=['国家','sku']).agg({'quantity':'sum','正净利订单销库':'sum'}).reset_index()\n",
    "df = product_sku(df)\n",
    "df = df.merge(df_1 ,how = 'left',on = 'sku')"
   ]
  },
  {
   "cell_type": "code",
   "execution_count": 114,
   "metadata": {},
   "outputs": [],
   "source": [
    "duck.to_duckdb(df,table_name='overseas_order_price')"
   ]
  },
  {
   "cell_type": "code",
   "execution_count": 115,
   "metadata": {},
   "outputs": [],
   "source": [
    "df.to_excel(f'C:\\\\Users\\\\Administrator\\\\Desktop\\\\11月海外仓正净利销库.xlsx',index=False)"
   ]
  },
  {
   "cell_type": "code",
   "execution_count": null,
   "metadata": {},
   "outputs": [],
   "source": []
  }
 ],
 "metadata": {
  "kernelspec": {
   "display_name": "base",
   "language": "python",
   "name": "python3"
  },
  "language_info": {
   "codemirror_mode": {
    "name": "ipython",
    "version": 3
   },
   "file_extension": ".py",
   "mimetype": "text/x-python",
   "name": "python",
   "nbconvert_exporter": "python",
   "pygments_lexer": "ipython3",
   "version": "3.11.5"
  }
 },
 "nbformat": 4,
 "nbformat_minor": 2
}
